{
 "cells": [
  {
   "cell_type": "markdown",
   "id": "fb25dd2e",
   "metadata": {},
   "source": [
    "\"\"\"\n",
    "This example fits model to OGLE-2003-BLG-235/MOA-2003-BLG-53,\n",
    "the first microlensing planet. Here we fix *s* and *q* parameters for\n",
    "the sake of simplicity. Wide range of other binary lens parameters is explored.\n",
    "Note that it would be beneficial to turn *x_caustic_in* and *x_caustic_out*\n",
    "to periodic variables.\n",
    "Specific settings are in file example_13.cfg.\n",
    "Running this example takes 15-60 minutes on most modern machines.\n",
    "\"\"\""
   ]
  },
  {
   "cell_type": "code",
   "execution_count": 1,
   "id": "dfa00c63",
   "metadata": {},
   "outputs": [],
   "source": [
    "import numpy as np\n",
    "import emcee\n",
    "import configparser\n",
    "\n",
    "import MulensModel as mm\n",
    "\n",
    "import example_15_read as read"
   ]
  },
  {
   "cell_type": "code",
   "execution_count": 2,
   "id": "c9fd67f0",
   "metadata": {},
   "outputs": [],
   "source": [
    "def ln_like(theta, event, parameters_to_fit, print_models):\n",
    "    \"\"\"\n",
    "    Likelihood function. The values of *parameters_to_fit* are in *theta*.\n",
    "    MulensModel Event class instance *event* gives event for which\n",
    "    calculations will be done. Boolean *print_models* controls if\n",
    "    all models are printed.\n",
    "    \"\"\"\n",
    "    for (theta_, param) in zip(theta, parameters_to_fit):\n",
    "        setattr(event.model.parameters, param, theta_)\n",
    "    chi2 = event.get_chi2()\n",
    "    if print_models:\n",
    "        if 'x_caustic_in' not in parameters_to_fit:\n",
    "            print(chi2, *[t for t in theta], flush=True)\n",
    "        else:\n",
    "            theta_ = theta.tolist()\n",
    "            keys = ['t_0', 'u_0', 't_E', 'alpha']\n",
    "            theta_ += [getattr(event.model.parameters, key) for key in keys]\n",
    "            print(chi2, *theta_, flush=True)\n",
    "    return -0.5 * chi2\n"
   ]
  },
  {
   "cell_type": "code",
   "execution_count": 3,
   "id": "cb3bc28f",
   "metadata": {},
   "outputs": [],
   "source": [
    "def ln_prior(theta, parameters_to_fit, event):\n",
    "    \"\"\"\n",
    "    Prior. Check if *theta* values for *parameters_to_fit* are within ranges\n",
    "    defined by *ln_prior.min* and *ln_prior.max*.\n",
    "    \"\"\"\n",
    "    outside = -np.inf\n",
    "\n",
    "    for (parameter, value) in ln_prior.min.items():\n",
    "        index = parameters_to_fit.index(parameter)\n",
    "        if theta[index] < value:\n",
    "            return outside\n",
    "\n",
    "    for (parameter, value) in ln_prior.max.items():\n",
    "        index = parameters_to_fit.index(parameter)\n",
    "        if theta[index] > value:\n",
    "            return outside\n",
    "# Below we calculate prior probability based on x_caustic_in and x_caustic_out.\n",
    "# This calculation assumes flat prior in (t_0, u_0, t_E, alpha), not in\n",
    "# (x_caustic_in, x_caustic_out, t_caustic_in, t_caustic_out). If you want flat\n",
    "# prior in the latter, then just replace following lines by \"return 0\".\n",
    "    inside = event.model.parameters.uniform_caustic_sampling.jacobian(\n",
    "        x_caustic_in=theta[parameters_to_fit.index('x_caustic_in')],\n",
    "        x_caustic_out=theta[parameters_to_fit.index('x_caustic_out')])\n",
    "    if inside == 0.:\n",
    "        return outside\n",
    "    else:\n",
    "        return np.log(inside)"
   ]
  },
  {
   "cell_type": "code",
   "execution_count": 4,
   "id": "ea02050e",
   "metadata": {},
   "outputs": [],
   "source": [
    "def ln_prob(\n",
    "        theta, event, parameters_to_fit, print_models=False):\n",
    "    \"\"\"\n",
    "    Log probability of the model - combines ln_prior() and ln_like().\n",
    "    \"\"\"\n",
    "    ln_prior_ = ln_prior(theta, parameters_to_fit, event)\n",
    "    if not np.isfinite(ln_prior_):\n",
    "        return -np.inf\n",
    "\n",
    "    ln_like_ = ln_like(theta, event, parameters_to_fit, print_models)\n",
    "    if np.isnan(ln_like_):\n",
    "        return -np.inf\n",
    "\n",
    "    return ln_prior_ + ln_like_"
   ]
  },
  {
   "cell_type": "code",
   "execution_count": 5,
   "id": "ef619239",
   "metadata": {},
   "outputs": [],
   "source": [
    "def generate_random_parameters(parameters, starting, n, s=None, q=None):\n",
    "    \"\"\"\n",
    "    Generate *n* vectors of values of *parameters* according to distributions\n",
    "    specified in *starting*.\n",
    "    \"\"\"\n",
    "    values = []\n",
    "    for param in parameters:\n",
    "        settings = starting[param]\n",
    "        if settings[0] == 'gauss':\n",
    "            v = settings[2] * np.random.randn(n)\n",
    "            v += settings[1]\n",
    "        elif settings[0] == 'uniform':\n",
    "            v = np.random.uniform(\n",
    "                low=settings[1], high=settings[2], size=n)\n",
    "        elif settings[0] == 'log-uniform':\n",
    "            beg = np.log(settings[1])\n",
    "            end = np.log(settings[2])\n",
    "            v = np.exp(np.random.uniform(beg, end, n))\n",
    "        values.append(v)\n",
    "    if 'x_caustic_in' in parameters and 'x_caustic_out' in parameters:\n",
    "        sampling = mm.UniformCausticSampling(s=s, q=q)\n",
    "        (x_in, x_out) = sampling.get_uniform_sampling(n)\n",
    "        values[parameters.index('x_caustic_in')] = x_in\n",
    "        values[parameters.index('x_caustic_out')] = x_out\n",
    "    return np.array(values).T.tolist()"
   ]
  },
  {
   "cell_type": "code",
   "execution_count": 6,
   "id": "9dcf8007",
   "metadata": {},
   "outputs": [],
   "source": [
    "# Read config file.\n",
    "config_file = \"example_13.cfg\"\n",
    "config = configparser.ConfigParser()\n",
    "config.optionxform = str  # So that \"t_E\" is not changed to \"t_e\".\n",
    "config.read(config_file)\n",
    "files = read.read_files_from_config(config)\n",
    "model_settings = read.read_model_settings(config)\n",
    "(parameters, starting) = read.read_parameters_start(config)\n",
    "fixed_parameters = read.read_fix_parameters(config)\n",
    "(min_values, max_values) = read.read_min_max(config)\n",
    "ln_prior.min = min_values\n",
    "ln_prior.max = max_values\n",
    "emcee_settings = read.read_emcee_settings(config)\n",
    "other_settings = read.read_other(config)"
   ]
  },
  {
   "cell_type": "code",
   "execution_count": 7,
   "id": "11fb299e",
   "metadata": {},
   "outputs": [],
   "source": [
    "# Read photometric data.\n",
    "k = {'comments': ['\\\\', '|']}\n",
    "datasets = [mm.MulensData(file_name=f[0], phot_fmt=f[1], **k) for f in files]"
   ]
  },
  {
   "cell_type": "code",
   "execution_count": 9,
   "id": "98111860",
   "metadata": {},
   "outputs": [
    {
     "ename": "ValueError",
     "evalue": "invalid literal for int() with base 10: '0rc2'",
     "output_type": "error",
     "traceback": [
      "\u001b[0;31m---------------------------------------------------------------------------\u001b[0m",
      "\u001b[0;31mValueError\u001b[0m                                Traceback (most recent call last)",
      "Cell \u001b[0;32mIn [9], line 4\u001b[0m\n\u001b[1;32m      2\u001b[0m s \u001b[38;5;241m=\u001b[39m fixed_parameters\u001b[38;5;241m.\u001b[39mget(\u001b[38;5;124m'\u001b[39m\u001b[38;5;124ms\u001b[39m\u001b[38;5;124m'\u001b[39m, \u001b[38;5;28;01mNone\u001b[39;00m)\n\u001b[1;32m      3\u001b[0m q \u001b[38;5;241m=\u001b[39m fixed_parameters\u001b[38;5;241m.\u001b[39mget(\u001b[38;5;124m'\u001b[39m\u001b[38;5;124mq\u001b[39m\u001b[38;5;124m'\u001b[39m, \u001b[38;5;28;01mNone\u001b[39;00m)\n\u001b[0;32m----> 4\u001b[0m start \u001b[38;5;241m=\u001b[39m \u001b[43mgenerate_random_parameters\u001b[49m\u001b[43m(\u001b[49m\u001b[43mparameters\u001b[49m\u001b[43m,\u001b[49m\u001b[43m \u001b[49m\u001b[43mstarting\u001b[49m\u001b[43m,\u001b[49m\u001b[43m \u001b[49m\u001b[43memcee_settings\u001b[49m\u001b[43m[\u001b[49m\u001b[38;5;124;43m'\u001b[39;49m\u001b[38;5;124;43mn_walkers\u001b[39;49m\u001b[38;5;124;43m'\u001b[39;49m\u001b[43m]\u001b[49m\u001b[43m,\u001b[49m\u001b[43m \u001b[49m\u001b[43ms\u001b[49m\u001b[38;5;241;43m=\u001b[39;49m\u001b[43ms\u001b[49m\u001b[43m,\u001b[49m\u001b[43m \u001b[49m\u001b[43mq\u001b[49m\u001b[38;5;241;43m=\u001b[39;49m\u001b[43mq\u001b[49m\u001b[43m)\u001b[49m\n",
      "Cell \u001b[0;32mIn [5], line 22\u001b[0m, in \u001b[0;36mgenerate_random_parameters\u001b[0;34m(parameters, starting, n, s, q)\u001b[0m\n\u001b[1;32m     20\u001b[0m \u001b[38;5;28;01mif\u001b[39;00m \u001b[38;5;124m'\u001b[39m\u001b[38;5;124mx_caustic_in\u001b[39m\u001b[38;5;124m'\u001b[39m \u001b[38;5;129;01min\u001b[39;00m parameters \u001b[38;5;129;01mand\u001b[39;00m \u001b[38;5;124m'\u001b[39m\u001b[38;5;124mx_caustic_out\u001b[39m\u001b[38;5;124m'\u001b[39m \u001b[38;5;129;01min\u001b[39;00m parameters:\n\u001b[1;32m     21\u001b[0m     sampling \u001b[38;5;241m=\u001b[39m mm\u001b[38;5;241m.\u001b[39mUniformCausticSampling(s\u001b[38;5;241m=\u001b[39ms, q\u001b[38;5;241m=\u001b[39mq)\n\u001b[0;32m---> 22\u001b[0m     (x_in, x_out) \u001b[38;5;241m=\u001b[39m \u001b[43msampling\u001b[49m\u001b[38;5;241;43m.\u001b[39;49m\u001b[43mget_uniform_sampling\u001b[49m\u001b[43m(\u001b[49m\u001b[43mn\u001b[49m\u001b[43m)\u001b[49m\n\u001b[1;32m     23\u001b[0m     values[parameters\u001b[38;5;241m.\u001b[39mindex(\u001b[38;5;124m'\u001b[39m\u001b[38;5;124mx_caustic_in\u001b[39m\u001b[38;5;124m'\u001b[39m)] \u001b[38;5;241m=\u001b[39m x_in\n\u001b[1;32m     24\u001b[0m     values[parameters\u001b[38;5;241m.\u001b[39mindex(\u001b[38;5;124m'\u001b[39m\u001b[38;5;124mx_caustic_out\u001b[39m\u001b[38;5;124m'\u001b[39m)] \u001b[38;5;241m=\u001b[39m x_out\n",
      "File \u001b[0;32m~/anaconda3/lib/python3.9/site-packages/MulensModel-2.14.1-py3.9-linux-x86_64.egg/MulensModel/uniformcausticsampling.py:530\u001b[0m, in \u001b[0;36mUniformCausticSampling.get_uniform_sampling\u001b[0;34m(self, n_points, n_min_for_caustic, caustic)\u001b[0m\n\u001b[1;32m    528\u001b[0m factor \u001b[38;5;241m=\u001b[39m \u001b[38;5;241m1.\u001b[39m\n\u001b[1;32m    529\u001b[0m \u001b[38;5;28;01mwhile\u001b[39;00m \u001b[38;5;129;01mnot\u001b[39;00m out[\u001b[38;5;241m0\u001b[39m]:\n\u001b[0;32m--> 530\u001b[0m     out \u001b[38;5;241m=\u001b[39m \u001b[38;5;28;43mself\u001b[39;49m\u001b[38;5;241;43m.\u001b[39;49m\u001b[43m_get_uniform_sampling_one_caustic\u001b[49m\u001b[43m(\u001b[49m\n\u001b[1;32m    531\u001b[0m \u001b[43m        \u001b[49m\u001b[43mcaustic_\u001b[49m\u001b[43m,\u001b[49m\u001b[43m \u001b[49m\u001b[43mn_points_\u001b[49m\u001b[43m,\u001b[49m\u001b[43m \u001b[49m\u001b[43mincrease_factor\u001b[49m\u001b[38;5;241;43m*\u001b[39;49m\u001b[43mfactor\u001b[49m\u001b[43m)\u001b[49m\n\u001b[1;32m    532\u001b[0m     \u001b[38;5;28;01mif\u001b[39;00m \u001b[38;5;129;01mnot\u001b[39;00m out[\u001b[38;5;241m0\u001b[39m]:\n\u001b[1;32m    533\u001b[0m         factor \u001b[38;5;241m*\u001b[39m\u001b[38;5;241m=\u001b[39m \u001b[38;5;241m1.1\u001b[39m \u001b[38;5;241m*\u001b[39m out[\u001b[38;5;241m1\u001b[39m]\n",
      "File \u001b[0;32m~/anaconda3/lib/python3.9/site-packages/MulensModel-2.14.1-py3.9-linux-x86_64.egg/MulensModel/uniformcausticsampling.py:552\u001b[0m, in \u001b[0;36mUniformCausticSampling._get_uniform_sampling_one_caustic\u001b[0;34m(self, caustic, n_points, increase_factor)\u001b[0m\n\u001b[1;32m    550\u001b[0m jacobian \u001b[38;5;241m=\u001b[39m np\u001b[38;5;241m.\u001b[39mzeros(n_all)\n\u001b[1;32m    551\u001b[0m \u001b[38;5;28;01mfor\u001b[39;00m (i, (x_1_, x_2_)) \u001b[38;5;129;01min\u001b[39;00m \u001b[38;5;28menumerate\u001b[39m(\u001b[38;5;28mzip\u001b[39m(x_1, x_2)):\n\u001b[0;32m--> 552\u001b[0m     jacobian[i] \u001b[38;5;241m=\u001b[39m \u001b[38;5;28;43mself\u001b[39;49m\u001b[38;5;241;43m.\u001b[39;49m\u001b[43mjacobian\u001b[49m\u001b[43m(\u001b[49m\u001b[43mx_1_\u001b[49m\u001b[43m,\u001b[49m\u001b[43m \u001b[49m\u001b[43mx_2_\u001b[49m\u001b[43m)\u001b[49m\n\u001b[1;32m    553\u001b[0m index \u001b[38;5;241m=\u001b[39m np\u001b[38;5;241m.\u001b[39mwhere(jacobian \u001b[38;5;241m>\u001b[39m \u001b[38;5;241m0.\u001b[39m)[\u001b[38;5;241m0\u001b[39m]\n\u001b[1;32m    554\u001b[0m \u001b[38;5;28;01mif\u001b[39;00m \u001b[38;5;28mlen\u001b[39m(index) \u001b[38;5;241m<\u001b[39m n_points \u001b[38;5;241m*\u001b[39m min_factor:\n",
      "File \u001b[0;32m~/anaconda3/lib/python3.9/site-packages/MulensModel-2.14.1-py3.9-linux-x86_64.egg/MulensModel/uniformcausticsampling.py:576\u001b[0m, in \u001b[0;36mUniformCausticSampling.jacobian\u001b[0;34m(self, x_caustic_in, x_caustic_out)\u001b[0m\n\u001b[1;32m    562\u001b[0m \u001b[38;5;28;01mdef\u001b[39;00m \u001b[38;5;21mjacobian\u001b[39m(\u001b[38;5;28mself\u001b[39m, x_caustic_in, x_caustic_out):\n\u001b[1;32m    563\u001b[0m     \u001b[38;5;124;03m\"\"\"\u001b[39;00m\n\u001b[1;32m    564\u001b[0m \u001b[38;5;124;03m    Evaluates Eq. 23 from Cassan et al. (2010) with condition under Eq. 27.\u001b[39;00m\n\u001b[1;32m    565\u001b[0m \n\u001b[0;32m   (...)\u001b[0m\n\u001b[1;32m    574\u001b[0m \u001b[38;5;124;03m            Value of Jacobian. Returns *0.* if trajectory does not exist.\u001b[39;00m\n\u001b[1;32m    575\u001b[0m \u001b[38;5;124;03m    \"\"\"\u001b[39;00m\n\u001b[0;32m--> 576\u001b[0m     check \u001b[38;5;241m=\u001b[39m \u001b[38;5;28;43mself\u001b[39;49m\u001b[38;5;241;43m.\u001b[39;49m\u001b[43m_check_valid_trajectory\u001b[49m\u001b[43m(\u001b[49m\u001b[43mx_caustic_in\u001b[49m\u001b[43m,\u001b[49m\u001b[43m \u001b[49m\u001b[43mx_caustic_out\u001b[49m\u001b[43m)\u001b[49m\n\u001b[1;32m    577\u001b[0m     \u001b[38;5;28;01mif\u001b[39;00m \u001b[38;5;129;01mnot\u001b[39;00m check[\u001b[38;5;241m0\u001b[39m]:\n\u001b[1;32m    578\u001b[0m         \u001b[38;5;28;01mreturn\u001b[39;00m \u001b[38;5;241m0.\u001b[39m\n",
      "File \u001b[0;32m~/anaconda3/lib/python3.9/site-packages/MulensModel-2.14.1-py3.9-linux-x86_64.egg/MulensModel/uniformcausticsampling.py:656\u001b[0m, in \u001b[0;36mUniformCausticSampling._check_valid_trajectory\u001b[0;34m(self, x_caustic_in, x_caustic_out)\u001b[0m\n\u001b[1;32m    653\u001b[0m     \u001b[38;5;28;01mif\u001b[39;00m caustic_in \u001b[38;5;241m!=\u001b[39m caustic_out:\n\u001b[1;32m    654\u001b[0m         \u001b[38;5;28;01mreturn\u001b[39;00m [\u001b[38;5;28;01mFalse\u001b[39;00m]\n\u001b[0;32m--> 656\u001b[0m zeta_in \u001b[38;5;241m=\u001b[39m \u001b[38;5;28;43mself\u001b[39;49m\u001b[38;5;241;43m.\u001b[39;49m\u001b[43mcaustic_point\u001b[49m\u001b[43m(\u001b[49m\u001b[43mx_caustic_in\u001b[49m\u001b[43m)\u001b[49m\n\u001b[1;32m    657\u001b[0m dzeta_dphi_in \u001b[38;5;241m=\u001b[39m \u001b[38;5;28mself\u001b[39m\u001b[38;5;241m.\u001b[39m_last_dzeta_dphi\n\u001b[1;32m    658\u001b[0m zeta_out \u001b[38;5;241m=\u001b[39m \u001b[38;5;28mself\u001b[39m\u001b[38;5;241m.\u001b[39mcaustic_point(x_caustic_out)\n",
      "File \u001b[0;32m~/anaconda3/lib/python3.9/site-packages/MulensModel-2.14.1-py3.9-linux-x86_64.egg/MulensModel/uniformcausticsampling.py:724\u001b[0m, in \u001b[0;36mUniformCausticSampling.caustic_point\u001b[0;34m(self, x_caustic)\u001b[0m\n\u001b[1;32m    722\u001b[0m sum_ \u001b[38;5;241m=\u001b[39m fraction_in_caustic \u001b[38;5;241m*\u001b[39m sum_use[\u001b[38;5;241m-\u001b[39m\u001b[38;5;241m1\u001b[39m]\n\u001b[1;32m    723\u001b[0m phi_interp \u001b[38;5;241m=\u001b[39m np\u001b[38;5;241m.\u001b[39minterp([sum_], sum_use, \u001b[38;5;28mself\u001b[39m\u001b[38;5;241m.\u001b[39m_phi)[\u001b[38;5;241m0\u001b[39m]\n\u001b[0;32m--> 724\u001b[0m \u001b[38;5;28;01mif\u001b[39;00m \u001b[38;5;28;43mtuple\u001b[39;49m\u001b[43m(\u001b[49m\u001b[38;5;28;43mmap\u001b[39;49m\u001b[43m(\u001b[49m\u001b[38;5;28;43mint\u001b[39;49m\u001b[43m,\u001b[49m\u001b[43m \u001b[49m\u001b[43m(\u001b[49m\u001b[43mnp\u001b[49m\u001b[38;5;241;43m.\u001b[39;49m\u001b[43m__version__\u001b[49m\u001b[38;5;241;43m.\u001b[39;49m\u001b[43msplit\u001b[49m\u001b[43m(\u001b[49m\u001b[38;5;124;43m\"\u001b[39;49m\u001b[38;5;124;43m.\u001b[39;49m\u001b[38;5;124;43m\"\u001b[39;49m\u001b[43m)\u001b[49m\u001b[43m)\u001b[49m\u001b[43m)\u001b[49m\u001b[43m)\u001b[49m \u001b[38;5;241m>\u001b[39m\u001b[38;5;241m=\u001b[39m (\u001b[38;5;241m1\u001b[39m, \u001b[38;5;241m12\u001b[39m, \u001b[38;5;241m0\u001b[39m):\n\u001b[1;32m    725\u001b[0m     zeta \u001b[38;5;241m=\u001b[39m \u001b[38;5;28mself\u001b[39m\u001b[38;5;241m.\u001b[39m_zeta(np\u001b[38;5;241m.\u001b[39minterp([phi_interp], \u001b[38;5;28mself\u001b[39m\u001b[38;5;241m.\u001b[39m_phi, z_use)[\u001b[38;5;241m0\u001b[39m])\n\u001b[1;32m    726\u001b[0m \u001b[38;5;28;01melse\u001b[39;00m:  \u001b[38;5;66;03m# Older versions of numpy cannot interpolate complex array:\u001b[39;00m\n",
      "\u001b[0;31mValueError\u001b[0m: invalid literal for int() with base 10: '0rc2'"
     ]
    }
   ],
   "source": [
    "# Generate starting values of parameters.\n",
    "s = fixed_parameters.get('s', None)\n",
    "q = fixed_parameters.get('q', None)\n",
    "start = generate_random_parameters(parameters, starting, emcee_settings['n_walkers'], s=s, q=q)"
   ]
  },
  {
   "cell_type": "code",
   "execution_count": 10,
   "id": "0136a638",
   "metadata": {},
   "outputs": [
    {
     "ename": "NameError",
     "evalue": "name 'start' is not defined",
     "output_type": "error",
     "traceback": [
      "\u001b[0;31m---------------------------------------------------------------------------\u001b[0m",
      "\u001b[0;31mNameError\u001b[0m                                 Traceback (most recent call last)",
      "Cell \u001b[0;32mIn [10], line 2\u001b[0m\n\u001b[1;32m      1\u001b[0m \u001b[38;5;66;03m# Setup Event instance that combines model and data.\u001b[39;00m\n\u001b[0;32m----> 2\u001b[0m par \u001b[38;5;241m=\u001b[39m \u001b[38;5;28mdict\u001b[39m(\u001b[38;5;28mzip\u001b[39m(parameters, \u001b[43mstart\u001b[49m[\u001b[38;5;241m0\u001b[39m]))\n\u001b[1;32m      3\u001b[0m par \u001b[38;5;241m=\u001b[39m {\u001b[38;5;241m*\u001b[39m\u001b[38;5;241m*\u001b[39mpar, \u001b[38;5;241m*\u001b[39m\u001b[38;5;241m*\u001b[39mfixed_parameters}\n\u001b[1;32m      4\u001b[0m my_model \u001b[38;5;241m=\u001b[39m mm\u001b[38;5;241m.\u001b[39mModel(par, coords\u001b[38;5;241m=\u001b[39mmodel_settings[\u001b[38;5;124m'\u001b[39m\u001b[38;5;124mcoords\u001b[39m\u001b[38;5;124m'\u001b[39m])\n",
      "\u001b[0;31mNameError\u001b[0m: name 'start' is not defined"
     ]
    }
   ],
   "source": [
    "# Setup Event instance that combines model and data.\n",
    "par = dict(zip(parameters, start[0]))\n",
    "par = {**par, **fixed_parameters}\n",
    "my_model = mm.Model(par, coords=model_settings['coords'])\n",
    "if 'methods' in model_settings:\n",
    "    my_model.set_magnification_methods(model_settings['methods'])\n",
    "if 'default_method' in model_settings:\n",
    "    my_model.set_default_magnification_method(model_settings['default_method'])\n",
    "my_event = mm.Event(datasets=datasets, model=my_model)"
   ]
  },
  {
   "cell_type": "code",
   "execution_count": null,
   "id": "f19ee0aa",
   "metadata": {},
   "outputs": [],
   "source": [
    "# Prepare sampler.\n",
    "n_dim = len(parameters)\n",
    "print_models = other_settings.get('print_models', False)\n",
    "args = (my_event, parameters, print_models)\n",
    "sampler = emcee.EnsembleSampler(\n",
    "    emcee_settings['n_walkers'], n_dim, ln_prob, args=args)"
   ]
  }
 ],
 "metadata": {
  "kernelspec": {
   "display_name": "Python 3 (ipykernel)",
   "language": "python",
   "name": "python3"
  },
  "language_info": {
   "codemirror_mode": {
    "name": "ipython",
    "version": 3
   },
   "file_extension": ".py",
   "mimetype": "text/x-python",
   "name": "python",
   "nbconvert_exporter": "python",
   "pygments_lexer": "ipython3",
   "version": "3.9.13"
  }
 },
 "nbformat": 4,
 "nbformat_minor": 5
}
